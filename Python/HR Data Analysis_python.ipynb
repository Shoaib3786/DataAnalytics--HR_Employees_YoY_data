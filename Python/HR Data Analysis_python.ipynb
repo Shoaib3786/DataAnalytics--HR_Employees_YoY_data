{
 "cells": [
  {
   "cell_type": "markdown",
   "id": "1ddf81ed",
   "metadata": {},
   "source": [
    "## HR data analysis"
   ]
  },
  {
   "cell_type": "code",
   "execution_count": 1,
   "id": "08717ff2",
   "metadata": {},
   "outputs": [],
   "source": [
    "import pandas as pd\n",
    "import numpy as np\n",
    "import matplotlib.pyplot as plt\n",
    "%matplotlib inline"
   ]
  },
  {
   "cell_type": "markdown",
   "id": "7c6eaebd",
   "metadata": {},
   "source": [
    "### Import data"
   ]
  },
  {
   "cell_type": "code",
   "execution_count": 2,
   "id": "fd9782e4",
   "metadata": {},
   "outputs": [
    {
     "data": {
      "text/html": [
       "<div>\n",
       "<style scoped>\n",
       "    .dataframe tbody tr th:only-of-type {\n",
       "        vertical-align: middle;\n",
       "    }\n",
       "\n",
       "    .dataframe tbody tr th {\n",
       "        vertical-align: top;\n",
       "    }\n",
       "\n",
       "    .dataframe thead th {\n",
       "        text-align: right;\n",
       "    }\n",
       "</style>\n",
       "<table border=\"1\" class=\"dataframe\">\n",
       "  <thead>\n",
       "    <tr style=\"text-align: right;\">\n",
       "      <th></th>\n",
       "      <th>Sheet Name</th>\n",
       "      <th>Employee Code</th>\n",
       "      <th>Name</th>\n",
       "      <th>Month</th>\n",
       "      <th>Day</th>\n",
       "      <th>Value</th>\n",
       "    </tr>\n",
       "  </thead>\n",
       "  <tbody>\n",
       "    <tr>\n",
       "      <th>0</th>\n",
       "      <td>Apr 2022</td>\n",
       "      <td>Atq -331</td>\n",
       "      <td>Jonah Hamilton</td>\n",
       "      <td>April</td>\n",
       "      <td>1</td>\n",
       "      <td>HPL</td>\n",
       "    </tr>\n",
       "    <tr>\n",
       "      <th>1</th>\n",
       "      <td>Apr 2022</td>\n",
       "      <td>Atq -334</td>\n",
       "      <td>Boston Morse</td>\n",
       "      <td>April</td>\n",
       "      <td>1</td>\n",
       "      <td>P</td>\n",
       "    </tr>\n",
       "    <tr>\n",
       "      <th>2</th>\n",
       "      <td>June 2022</td>\n",
       "      <td>Atq -334</td>\n",
       "      <td>Boston Morse</td>\n",
       "      <td>June</td>\n",
       "      <td>1</td>\n",
       "      <td>P</td>\n",
       "    </tr>\n",
       "    <tr>\n",
       "      <th>3</th>\n",
       "      <td>June 2022</td>\n",
       "      <td>Atq -334</td>\n",
       "      <td>Charity Singleton</td>\n",
       "      <td>June</td>\n",
       "      <td>1</td>\n",
       "      <td>P</td>\n",
       "    </tr>\n",
       "    <tr>\n",
       "      <th>4</th>\n",
       "      <td>Apr 2022</td>\n",
       "      <td>Atq -335</td>\n",
       "      <td>Madelynn Gray</td>\n",
       "      <td>April</td>\n",
       "      <td>1</td>\n",
       "      <td>P</td>\n",
       "    </tr>\n",
       "  </tbody>\n",
       "</table>\n",
       "</div>"
      ],
      "text/plain": [
       "  Sheet Name Employee Code               Name  Month  Day Value\n",
       "0   Apr 2022      Atq -331     Jonah Hamilton  April    1   HPL\n",
       "1   Apr 2022      Atq -334       Boston Morse  April    1     P\n",
       "2  June 2022      Atq -334       Boston Morse   June    1     P\n",
       "3  June 2022      Atq -334  Charity Singleton   June    1     P\n",
       "4   Apr 2022      Atq -335      Madelynn Gray  April    1     P"
      ]
     },
     "execution_count": 2,
     "metadata": {},
     "output_type": "execute_result"
    }
   ],
   "source": [
    "df = pd.read_csv('Final_data.csv')\n",
    "df.head()"
   ]
  },
  {
   "cell_type": "markdown",
   "id": "50895931",
   "metadata": {},
   "source": [
    "### Replacing column name"
   ]
  },
  {
   "cell_type": "code",
   "execution_count": 3,
   "id": "af1bd6d1",
   "metadata": {},
   "outputs": [],
   "source": [
    "\n",
    "df.columns = ['sheet_name', 'employee_code', 'name', 'month', 'day', 'value']"
   ]
  },
  {
   "cell_type": "code",
   "execution_count": 4,
   "id": "bb003bcf",
   "metadata": {},
   "outputs": [
    {
     "data": {
      "text/plain": [
       "(6492, 6)"
      ]
     },
     "execution_count": 4,
     "metadata": {},
     "output_type": "execute_result"
    }
   ],
   "source": [
    "df.shape"
   ]
  },
  {
   "cell_type": "code",
   "execution_count": 5,
   "id": "7fd0ec17",
   "metadata": {},
   "outputs": [
    {
     "data": {
      "text/plain": [
       "array(['HPL', 'P', 'WFH', 'LWP', 'HML', 'SL', 'PL', 'HWFH', 'HSL', 'ML',\n",
       "       'WO', 'HLWP', 'FFL', 'BL', 'BRL'], dtype=object)"
      ]
     },
     "execution_count": 5,
     "metadata": {},
     "output_type": "execute_result"
    }
   ],
   "source": [
    "df.value.unique()"
   ]
  },
  {
   "cell_type": "code",
   "execution_count": 6,
   "id": "ae394aaf",
   "metadata": {},
   "outputs": [
    {
     "data": {
      "text/plain": [
       "array(['April', 'June', 'May'], dtype=object)"
      ]
     },
     "execution_count": 6,
     "metadata": {},
     "output_type": "execute_result"
    }
   ],
   "source": [
    "df.month.unique()"
   ]
  },
  {
   "cell_type": "markdown",
   "id": "63940960",
   "metadata": {},
   "source": [
    "#### We have already tansformed the data in power Query. So no NAN values..etc handling so now directly moving towards the observations."
   ]
  },
  {
   "cell_type": "markdown",
   "id": "621c668a",
   "metadata": {},
   "source": [
    "# Observations / Inferences"
   ]
  },
  {
   "cell_type": "markdown",
   "id": "b214019e",
   "metadata": {},
   "source": [
    "### Ques - 1\n",
    "\n",
    "Trend of employee's Work From Home(WFH) scenario\n",
    "   - Preference of WFH by month.\n",
    "   - Employees who took max number of WFH?\n",
    "   - WFH percentage by month?"
   ]
  },
  {
   "cell_type": "markdown",
   "id": "cea6ba25",
   "metadata": {},
   "source": [
    "Now,\n",
    " - We are interested in only WFH value.\n",
    " - Firstly we want the value WFH by days of all the employees.\n",
    " - Then will generalize this only month code for all inorder to see for all the remaining months.\n",
    " - Then w'll also check for the employees who opted for WFH at max. \n",
    " - For WFH% we need:\n",
    "     - Total present = \"P\" + \"WFH\" + (\"HWFH\")/2\n",
    "     - HWFH will only marked as 1/2 day present\n",
    "   - So now will find the % of WFH out of total present employee this way we can also find the preference of the employee. "
   ]
  },
  {
   "cell_type": "code",
   "execution_count": 7,
   "id": "995ce9de",
   "metadata": {},
   "outputs": [],
   "source": [
    "# Now Count of WFH by month and by day\n",
    "\n",
    "month_list = df.month.unique()\n",
    "wfh_day = []\n",
    "wfh_value_list = []\n",
    "month = []\n",
    "employe_name =[]\n",
    "employe_code = []\n",
    "\n",
    "for i in month_list:\n",
    "\n",
    "    m = df.groupby(['month']).get_group(i)\n",
    "\n",
    "    df_wfh = m.groupby(['value']).get_group('WFH')\n",
    "    \n",
    "    wfh_day.append(df_wfh.day.unique())\n",
    "    \n",
    "    for j in df_wfh.day.unique():\n",
    "        \n",
    "        x = df_wfh.groupby('day').get_group(j)\n",
    "        wfh_value = x.value.value_counts()\n",
    "        emp_name_value = x.name.values\n",
    "        emp_code_value = x.employee_code.values\n",
    "        \n",
    "        employe_name.append(emp_name_value)\n",
    "        employe_code.append(emp_code_value)\n",
    "        \n",
    "        wfh_value_list.append(wfh_value[0])\n",
    "        \n",
    "        month.append(i)\n",
    "\n",
    "        \n",
    "# TWO METHOD TO UNPACK LIST OF LIST        \n",
    "        \n",
    "x1 = wfh_day[0]\n",
    "x2 = wfh_day[1]\n",
    "x3 = wfh_day[2]\n",
    "final_wfh_list = [*x1, *x2, *x3]\n",
    "\n",
    "# [or]\n",
    "\n",
    "# this is comprehension method\n",
    "employee_name_list = [x for l in employe_name for x in l]\n",
    "# print(employee_name_list)\n",
    "\n",
    "# this is comprehension method\n",
    "employee_code_list = [x for l in employe_code for x in l]\n",
    "# print(employee_code_list)\n",
    "\n",
    "\n"
   ]
  },
  {
   "cell_type": "code",
   "execution_count": 8,
   "id": "77d26d8f",
   "metadata": {},
   "outputs": [
    {
     "data": {
      "text/html": [
       "<div>\n",
       "<style scoped>\n",
       "    .dataframe tbody tr th:only-of-type {\n",
       "        vertical-align: middle;\n",
       "    }\n",
       "\n",
       "    .dataframe tbody tr th {\n",
       "        vertical-align: top;\n",
       "    }\n",
       "\n",
       "    .dataframe thead th {\n",
       "        text-align: right;\n",
       "    }\n",
       "</style>\n",
       "<table border=\"1\" class=\"dataframe\">\n",
       "  <thead>\n",
       "    <tr style=\"text-align: right;\">\n",
       "      <th></th>\n",
       "      <th>employee_code</th>\n",
       "      <th>name</th>\n",
       "      <th>month</th>\n",
       "      <th>day</th>\n",
       "      <th>WFH_count</th>\n",
       "    </tr>\n",
       "  </thead>\n",
       "  <tbody>\n",
       "    <tr>\n",
       "      <th>0</th>\n",
       "      <td>Atq -382</td>\n",
       "      <td>Gustavo Ritter</td>\n",
       "      <td>April</td>\n",
       "      <td>1</td>\n",
       "      <td>7</td>\n",
       "    </tr>\n",
       "    <tr>\n",
       "      <th>1</th>\n",
       "      <td>Atq -396</td>\n",
       "      <td>Joel Cruz</td>\n",
       "      <td>April</td>\n",
       "      <td>4</td>\n",
       "      <td>7</td>\n",
       "    </tr>\n",
       "    <tr>\n",
       "      <th>2</th>\n",
       "      <td>Atq -405</td>\n",
       "      <td>Chris Frye</td>\n",
       "      <td>April</td>\n",
       "      <td>5</td>\n",
       "      <td>7</td>\n",
       "    </tr>\n",
       "    <tr>\n",
       "      <th>3</th>\n",
       "      <td>Atq -430</td>\n",
       "      <td>Maximus Mckenzie</td>\n",
       "      <td>April</td>\n",
       "      <td>6</td>\n",
       "      <td>4</td>\n",
       "    </tr>\n",
       "    <tr>\n",
       "      <th>4</th>\n",
       "      <td>Atq -443</td>\n",
       "      <td>Lyric Bartlett</td>\n",
       "      <td>April</td>\n",
       "      <td>7</td>\n",
       "      <td>6</td>\n",
       "    </tr>\n",
       "    <tr>\n",
       "      <th>...</th>\n",
       "      <td>...</td>\n",
       "      <td>...</td>\n",
       "      <td>...</td>\n",
       "      <td>...</td>\n",
       "      <td>...</td>\n",
       "    </tr>\n",
       "    <tr>\n",
       "      <th>60</th>\n",
       "      <td>Atq -396</td>\n",
       "      <td>Joel Cruz</td>\n",
       "      <td>May</td>\n",
       "      <td>25</td>\n",
       "      <td>9</td>\n",
       "    </tr>\n",
       "    <tr>\n",
       "      <th>61</th>\n",
       "      <td>Atq -430</td>\n",
       "      <td>Maximus Mckenzie</td>\n",
       "      <td>May</td>\n",
       "      <td>26</td>\n",
       "      <td>10</td>\n",
       "    </tr>\n",
       "    <tr>\n",
       "      <th>62</th>\n",
       "      <td>Atq -455</td>\n",
       "      <td>Caylee Meadows</td>\n",
       "      <td>May</td>\n",
       "      <td>27</td>\n",
       "      <td>9</td>\n",
       "    </tr>\n",
       "    <tr>\n",
       "      <th>63</th>\n",
       "      <td>Atq -458</td>\n",
       "      <td>Jessie Carrillo</td>\n",
       "      <td>May</td>\n",
       "      <td>30</td>\n",
       "      <td>6</td>\n",
       "    </tr>\n",
       "    <tr>\n",
       "      <th>64</th>\n",
       "      <td>Atq -484</td>\n",
       "      <td>Adyson Moyer</td>\n",
       "      <td>May</td>\n",
       "      <td>31</td>\n",
       "      <td>5</td>\n",
       "    </tr>\n",
       "  </tbody>\n",
       "</table>\n",
       "<p>65 rows × 5 columns</p>\n",
       "</div>"
      ],
      "text/plain": [
       "   employee_code              name  month  day  WFH_count\n",
       "0       Atq -382    Gustavo Ritter  April    1          7\n",
       "1       Atq -396         Joel Cruz  April    4          7\n",
       "2       Atq -405        Chris Frye  April    5          7\n",
       "3       Atq -430  Maximus Mckenzie  April    6          4\n",
       "4       Atq -443    Lyric Bartlett  April    7          6\n",
       "..           ...               ...    ...  ...        ...\n",
       "60      Atq -396         Joel Cruz    May   25          9\n",
       "61      Atq -430  Maximus Mckenzie    May   26         10\n",
       "62      Atq -455    Caylee Meadows    May   27          9\n",
       "63      Atq -458   Jessie Carrillo    May   30          6\n",
       "64      Atq -484      Adyson Moyer    May   31          5\n",
       "\n",
       "[65 rows x 5 columns]"
      ]
     },
     "execution_count": 8,
     "metadata": {},
     "output_type": "execute_result"
    }
   ],
   "source": [
    "# get the list of tuples from two lists.\n",
    "# and merge them by using zip().\n",
    "list_of_tuples = list(zip(employee_code_list, employee_name_list, month, final_wfh_list, wfh_value_list))\n",
    "\n",
    "wfh_df= pd.DataFrame(list_of_tuples,\n",
    "                  columns=['employee_code','name','month', 'day', 'WFH_count'])\n",
    "wfh_df\n"
   ]
  },
  {
   "cell_type": "markdown",
   "id": "cd96f946",
   "metadata": {},
   "source": [
    "### Employees who opted for maximum number of WFH "
   ]
  },
  {
   "cell_type": "code",
   "execution_count": 9,
   "id": "f1d782ed",
   "metadata": {},
   "outputs": [
    {
     "data": {
      "text/plain": [
       "array(['Atq -382', 'Atq -396', 'Atq -405', 'Atq -430', 'Atq -443',\n",
       "       'Atq -452', 'Atq -485', 'Atq -331', 'Atq -393', 'Atq -411',\n",
       "       'Atq -398', 'Atq -369', 'Atq -426', 'Atq -419', 'Atq -467',\n",
       "       'Atq -368', 'Atq -408', 'Atq -335', 'Atq -455', 'Atq -458',\n",
       "       'Atq -484'], dtype=object)"
      ]
     },
     "execution_count": 9,
     "metadata": {},
     "output_type": "execute_result"
    }
   ],
   "source": [
    "wfh_df.employee_code.unique()"
   ]
  },
  {
   "cell_type": "code",
   "execution_count": 10,
   "id": "826433af",
   "metadata": {},
   "outputs": [
    {
     "data": {
      "text/plain": [
       "employee_code\n",
       "Atq -331     2\n",
       "Atq -335     1\n",
       "Atq -368     2\n",
       "Atq -369     1\n",
       "Atq -382    11\n",
       "Atq -393     2\n",
       "Atq -396    10\n",
       "Atq -398     1\n",
       "Atq -405     4\n",
       "Atq -408     1\n",
       "Atq -411     1\n",
       "Atq -419     1\n",
       "Atq -426     1\n",
       "Atq -430    11\n",
       "Atq -443     1\n",
       "Atq -452     1\n",
       "Atq -455     1\n",
       "Atq -458     1\n",
       "Atq -467     1\n",
       "Atq -484     1\n",
       "Atq -485    10\n",
       "dtype: int64"
      ]
     },
     "execution_count": 10,
     "metadata": {},
     "output_type": "execute_result"
    }
   ],
   "source": [
    "wfh_df.groupby('employee_code').size()"
   ]
  },
  {
   "cell_type": "markdown",
   "id": "5f662c34",
   "metadata": {},
   "source": [
    "### Observation:\n",
    " - Employee code who opted for maximum no.of WFH:\n",
    "     - Atq - 382\n",
    "     - Atq - 396\n",
    "     - Atq - 430\n",
    "     - Atq - 485"
   ]
  },
  {
   "cell_type": "markdown",
   "id": "ddd98d18",
   "metadata": {},
   "source": [
    "#### Work From line graph of  all the months"
   ]
  },
  {
   "cell_type": "code",
   "execution_count": 11,
   "id": "98c3bf2d",
   "metadata": {},
   "outputs": [
    {
     "data": {
      "text/plain": [
       "<AxesSubplot:title={'center':'June month WFH'}, xlabel='day', ylabel='WFH count'>"
      ]
     },
     "execution_count": 11,
     "metadata": {},
     "output_type": "execute_result"
    },
    {
     "data": {
      "image/png": "[encoded data removed]",
      "text/plain": [
       "<Figure size 432x288 with 1 Axes>"
      ]
     },
     "metadata": {
      "needs_background": "light"
     },
     "output_type": "display_data"
    },
    {
     "data": {
      "image/png": "[encoded data removed]",
      "text/plain": [
       "<Figure size 432x288 with 1 Axes>"
      ]
     },
     "metadata": {
      "needs_background": "light"
     },
     "output_type": "display_data"
    },
    {
     "data": {
      "image/png": "[encoded data removed]",
      "text/plain": [
       "<Figure size 432x288 with 1 Axes>"
      ]
     },
     "metadata": {
      "needs_background": "light"
     },
     "output_type": "display_data"
    }
   ],
   "source": [
    "apr_df = wfh_df.groupby('month').get_group('April')\n",
    "may_df = wfh_df.groupby('month').get_group('May')\n",
    "june_df = wfh_df.groupby('month').get_group('June')\n",
    "\n",
    "\n",
    "apr_df.plot(x = 'day' , y = 'WFH_count', kind = 'line', title = 'April month WFH', ylabel = 'WFH count')\n",
    "may_df.plot(x = 'day' , y = 'WFH_count', kind = 'line', title = 'May month WFH', ylabel = 'WFH count')\n",
    "june_df.plot(x = 'day' , y = 'WFH_count', kind = 'line', title = 'June month WFH', ylabel = 'WFH count')\n"
   ]
  },
  {
   "cell_type": "code",
   "execution_count": 12,
   "id": "5fa61a44",
   "metadata": {},
   "outputs": [
    {
     "data": {
      "image/png": "[encoded data removed]",
      "text/plain": [
       "<Figure size 432x288 with 1 Axes>"
      ]
     },
     "metadata": {
      "needs_background": "light"
     },
     "output_type": "display_data"
    }
   ],
   "source": [
    "plt.plot(apr_df['day'], apr_df['WFH_count'], label = 'April month')\n",
    "plt.plot(may_df['day'], may_df['WFH_count'], label = 'May month')\n",
    "plt.plot(june_df['day'], june_df['WFH_count'], label = 'June month')\n",
    "plt.legend()\n",
    "plt.show()"
   ]
  },
  {
   "cell_type": "markdown",
   "id": "a94ad350",
   "metadata": {},
   "source": [
    "### Observation:\n",
    "\n",
    " - Most of the WFH is applied between (10th to 25th).\n",
    " - A sudden hike in the May month during (1st to 10th) was bcz of festivals same reason was in the month of April during (29th to 30th).\n",
    " "
   ]
  },
  {
   "cell_type": "markdown",
   "id": "e9b8e189",
   "metadata": {},
   "source": [
    "### Total Present and WFH%"
   ]
  },
  {
   "cell_type": "code",
   "execution_count": 13,
   "id": "c3d2b4e8",
   "metadata": {
    "scrolled": false
   },
   "outputs": [
    {
     "name": "stdout",
     "output_type": "stream",
     "text": [
      "\n",
      "\n",
      "Month:  April\n",
      "\n",
      "\n",
      "Present(P) count:  1387\n",
      "Work From Home(WFH) count:  138\n",
      "Half Work From Home(HWFH) count:  0.5\n",
      "Total present count:  1525.5\n",
      "WFH pecentage(%):  9.05\n",
      "\n",
      "\n",
      "Month:  June\n",
      "\n",
      "\n",
      "Present(P) count:  849\n",
      "Work From Home(WFH) count:  139\n",
      "Half Work From Home(HWFH) count:  1.5\n",
      "Total present count:  989.5\n",
      "WFH pecentage(%):  14.05\n",
      "\n",
      "\n",
      "Month:  May\n",
      "\n",
      "\n",
      "Present(P) count:  1375\n",
      "Work From Home(WFH) count:  173\n",
      "Half Work From Home(HWFH) count:  1.0\n",
      "Total present count:  1549.0\n",
      "WFH pecentage(%):  11.17\n"
     ]
    }
   ],
   "source": [
    "wfh_percent_list = []\n",
    "\n",
    "\n",
    "for i in month_list:\n",
    "    print(\"\\n\")\n",
    "    print(\"Month: \", i)\n",
    "    print(\"\\n\")\n",
    "    month = df.groupby('month').get_group(i)\n",
    "    \n",
    "    p1 = month.groupby('value').get_group(\"P\")\n",
    "    p2 = month.groupby('value').get_group(\"WFH\")\n",
    "    p3 = month.groupby('value').get_group(\"HWFH\")\n",
    "    \n",
    "    p_count = p1.day.count()     # count as 1\n",
    "    wfh_count = p2.day.count()   # count as 1\n",
    "    hwfh_count = (p3.day.count()) / 2  # count as 0.5\n",
    "\n",
    "    print('Present(P) count: ',p_count )\n",
    "    print('Work From Home(WFH) count: ',wfh_count )\n",
    "    print('Half Work From Home(HWFH) count: ',hwfh_count )\n",
    "\n",
    "    \n",
    "    total_present = p_count + wfh_count + hwfh_count\n",
    "    print(\"Total present count: \", total_present)\n",
    "    \n",
    "    # WFH% of current month (i)\n",
    "    wfh_percent = (wfh_count / total_present) * 100\n",
    "    print(\"WFH pecentage(%): \", round(wfh_percent,2))\n",
    "    \n",
    "    wfh_percent_list.append(round(wfh_percent,2))   \n",
    "    "
   ]
  },
  {
   "cell_type": "markdown",
   "id": "446eed52",
   "metadata": {},
   "source": [
    "#### Plotting the above data"
   ]
  },
  {
   "cell_type": "code",
   "execution_count": 14,
   "id": "a0e14953",
   "metadata": {},
   "outputs": [
    {
     "data": {
      "image/png": "[encoded data removed]",
      "text/plain": [
       "<Figure size 432x288 with 1 Axes>"
      ]
     },
     "metadata": {
      "needs_background": "light"
     },
     "output_type": "display_data"
    }
   ],
   "source": [
    "\n",
    "\n",
    "y = wfh_percent_list\n",
    "x = month_list\n",
    "plt.bar(x, y, color = 'orange', width = 0.3)\n",
    "plt.show()\n",
    "\n"
   ]
  },
  {
   "cell_type": "markdown",
   "id": "e45591ad",
   "metadata": {},
   "source": [
    " ## Ques 1- SUMMARY :\n",
    "  \n",
    " - Most of the WFH is applied between (10th to 25th).\n",
    " - A sudden hike in the May month during (1st to 10th) was bcz of festivals same reason was in the month of April during (29th to 30th). \n",
    "    \n",
    " \n",
    " - Employee code who opted for maximum no.of WFH:\n",
    "     - Atq - 382\n",
    "     - Atq - 396\n",
    "     - Atq - 430\n",
    "     - Atq - 485\n",
    " \n",
    " \n",
    " -  preference of WFH for the employee by month:\n",
    "     - April = 9.04%\n",
    "     - May = 11.17%     \n",
    "     - June = 14.05%\n",
    "\n",
    "     "
   ]
  },
  {
   "cell_type": "markdown",
   "id": "18249390",
   "metadata": {},
   "source": [
    "### Ques - 2\n",
    "\n",
    "Finding percentage of Sick leave by months \n",
    "\n",
    "\n",
    "So for this we need:\n",
    " - Total working days in each month = total days - (Weekly Off(WO) + Holidays Off (HO))\n",
    " - now calculate Out of total working day how much is the sick leave. \n"
   ]
  },
  {
   "cell_type": "code",
   "execution_count": 29,
   "id": "3e93d0be",
   "metadata": {},
   "outputs": [
    {
     "name": "stdout",
     "output_type": "stream",
     "text": [
      "Month:  April\n",
      "total days in month:  2333\n",
      "WO count:  711\n",
      "total_working_days:  1622\n",
      "Half Sick leave count:  1.0\n",
      "Sick leave count:  6\n",
      "Total Sick leave count:  7.0\n",
      "Sick leave percent:  0.43\n",
      "\n",
      "\n",
      "Month:  June\n",
      "total days in month:  1753\n",
      "WO count:  662\n",
      "total_working_days:  1091\n",
      "Half Sick leave count:  3.0\n",
      "Sick leave count:  9\n",
      "Total Sick leave count:  12.0\n",
      "Sick leave percent:  1.1\n",
      "\n",
      "\n",
      "Month:  May\n",
      "total days in month:  2406\n",
      "WO count:  680\n",
      "total_working_days:  1726\n",
      "Half Sick leave count:  5.0\n",
      "Sick leave count:  24\n",
      "Total Sick leave count:  29.0\n",
      "Sick leave percent:  1.68\n",
      "\n",
      "\n",
      "[0.43, 1.1, 1.68]\n"
     ]
    }
   ],
   "source": [
    "\n",
    "\n",
    "ho_count = 0\n",
    "sickleave_list = []\n",
    "\n",
    "\n",
    "\n",
    "for i in month_list:\n",
    "    \n",
    "    print('Month: ',i)\n",
    "    # Month\n",
    "    current_month = df.groupby('month').get_group(i)\n",
    "    total_day_month = len(current_month.day)\n",
    "    print('total days in month: ',total_day_month)\n",
    "    \n",
    "    # WO count\n",
    "    wo = current_month.groupby('value').get_group('WO')  #value contain 'WO' in month 'i'\n",
    "    wo_count = len(wo.day)\n",
    "    print('WO count: ',wo_count)\n",
    "    \n",
    "    # total working day\n",
    "    total_working_days = total_day_month - (wo_count + ho_count)\n",
    "    print('total_working_days: ', total_working_days)\n",
    "\n",
    "    \n",
    "    # half sick leave(HSL) count\n",
    "    s1 = current_month.groupby('value').get_group('HSL')\n",
    "    hsl_count = (s1.day.count()) / 2       # Half Sick leave as 0.5\n",
    "    print(\"Half Sick leave count: \", hsl_count)\n",
    "    \n",
    "    # Sick leave(SL) count\n",
    "    s2 = current_month.groupby('value').get_group('SL')\n",
    "    sl_count = s2.day.count()            # Full Sick Leave as 1\n",
    "    print(\"Sick leave count: \", sl_count)\n",
    "    \n",
    "    # Total Sick leave = HSL + SL\n",
    "    total_sick_leave = hsl_count + sl_count\n",
    "    print(\"Total Sick leave count: \", total_sick_leave)\n",
    "    \n",
    "    \n",
    "    # % of sick leave\n",
    "    perce_SL = (total_sick_leave / total_working_days) * 100\n",
    "    print('Sick leave percent: ', round(perce_SL,2))   # round off sick leave percentage to 2\n",
    "\n",
    "    print('\\n')\n",
    "\n",
    "#     store all sick leave percentage value into list\n",
    "    sickleave_list.append(round(perce_SL,2))\n",
    "\n",
    "print(sickleave_list)\n",
    "    "
   ]
  },
  {
   "cell_type": "code",
   "execution_count": 30,
   "id": "01e3e773",
   "metadata": {},
   "outputs": [
    {
     "data": {
      "text/plain": [
       "<BarContainer object of 3 artists>"
      ]
     },
     "execution_count": 30,
     "metadata": {},
     "output_type": "execute_result"
    },
    {
     "data": {
      "image/png": "[encoded data removed]",
      "text/plain": [
       "<Figure size 432x288 with 1 Axes>"
      ]
     },
     "metadata": {
      "needs_background": "light"
     },
     "output_type": "display_data"
    }
   ],
   "source": [
    "x = ['April', 'June', 'May']     #[or] month_list    \n",
    "y = [0.43, 1.1, 1.68]        #[or] sickleave_list\n",
    "\n",
    "plt.bar(x, y, color = 'pink')"
   ]
  },
  {
   "cell_type": "markdown",
   "id": "f6f17ce8",
   "metadata": {},
   "source": [
    "## Observation:\n",
    " - There was a drastic sick leave taken by the employess in the month of May-2022\n",
    " - Observering WFH graph of 'May-2022' and Sick leave graph, posssible reason for this can be a pandemic, as it was expected that from May-2022 there will going to be the growth of covid cases and it went to its peak by mid of july."
   ]
  },
  {
   "cell_type": "code",
   "execution_count": null,
   "id": "2a8f2903",
   "metadata": {},
   "outputs": [],
   "source": []
  },
  {
   "cell_type": "code",
   "execution_count": null,
   "id": "25d4fccd",
   "metadata": {},
   "outputs": [],
   "source": []
  }
 ],
 "metadata": {
  "kernelspec": {
   "display_name": "Python 3 (ipykernel)",
   "language": "python",
   "name": "python3"
  },
  "language_info": {
   "codemirror_mode": {
    "name": "ipython",
    "version": 3
   },
   "file_extension": ".py",
   "mimetype": "text/x-python",
   "name": "python",
   "nbconvert_exporter": "python",
   "pygments_lexer": "ipython3",
   "version": "3.9.12"
  }
 },
 "nbformat": 4,
 "nbformat_minor": 5
}
